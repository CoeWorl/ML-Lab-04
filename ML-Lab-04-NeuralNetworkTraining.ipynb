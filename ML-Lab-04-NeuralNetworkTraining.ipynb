{
 "cells": [
  {
   "cell_type": "markdown",
   "metadata": {},
   "source": [
    "## Introduction\n",
    "First we need to import the necessary libraries to use for this lab. We'll be using [`numpy`](http://www.numpy.org/) for linear algebra operations, [`matplotlib`](https://matplotlib.org/) for plotting, [`scipy`](https://docs.scipy.org/doc/scipy/reference/) for scientific and numerical computations, and [`tensorflow`](https://www.tensorflow.org/) for computing the neural networks. We collaborated using our [github repository](https://github.com/CoeWorl/ML-Lab-04) where all the code and datasets are located, and instructions to install necessary libraries at Andrew Ng's [github repository](https://github.com/dibgerge/ml-coursera-python-assignments) and the instructions to install the [tensorflow](https://www.tensorflow.org/install) library."
   ]
  },
  {
   "cell_type": "code",
   "execution_count": 1,
   "metadata": {},
   "outputs": [],
   "source": [
    "# used for manipulating directory paths\n",
    "import os\n",
    "\n",
    "# Scientific and vector computation for python\n",
    "import numpy as np\n",
    "\n",
    "# Plotting library\n",
    "from matplotlib import pyplot\n",
    "\n",
    "# Optimization module in scipy\n",
    "from scipy import optimize\n",
    "\n",
    "# Computing neural network layers\n",
    "import tensorflow as tf\n",
    "\n",
    "# Parsing the .tsv/.csv files\n",
    "import pandas as pd"
   ]
  },
  {
   "cell_type": "markdown",
   "metadata": {},
   "source": [
    "#### Importing the data\n",
    "Using pandas to create the dataframe and creating the arrays for the data."
   ]
  },
  {
   "cell_type": "code",
   "execution_count": 2,
   "metadata": {},
   "outputs": [
    {
     "name": "stdout",
     "output_type": "stream",
     "text": [
      "            song_name artist_name  acousticness  danceability  energy  \\\n",
      "0        All Mixed Up         311      0.010400         0.760   0.702   \n",
      "1   Don't Tread On Me         311      0.000045         0.574   0.919   \n",
      "2  Beautiful Disaster         311      0.000387         0.576   0.738   \n",
      "3           Backfired         408      0.076700         0.496   0.937   \n",
      "4               Manic         408      0.001370         0.436   0.980   \n",
      "\n",
      "   instrumentalness  liveness  loudness  speechiness       tempo  valence  \\\n",
      "0           0.00000     0.380    -9.404       0.0716   92.323998    0.659   \n",
      "1           0.00280     0.116    -6.418       0.0737  176.531998    0.704   \n",
      "2           0.00131     0.130    -8.122       0.0353  168.132004    0.675   \n",
      "3           0.00000     0.123    -2.628       0.1320  178.020996    0.182   \n",
      "4           0.00000     0.638    -3.491       0.2220  200.097000    0.674   \n",
      "\n",
      "    genre_name  Unnamed: 12  \n",
      "0  alternative            0  \n",
      "1  alternative            0  \n",
      "2  alternative            0  \n",
      "3         punk            8  \n",
      "4         punk            8  \n"
     ]
    }
   ],
   "source": [
    "df = pd.read_csv('localify_music_genre - song_dataset_short_limited.csv')\n",
    "\n",
    "#Testing to see what the dataframe looks like\n",
    "#print(df.head()) #to test the dataframe\n",
    "\n",
    "X, y = df.iloc[:, 2:10], df.iloc[:, 12]\n"
   ]
  },
  {
   "cell_type": "code",
   "execution_count": null,
   "metadata": {},
   "outputs": [],
   "source": []
  }
 ],
 "metadata": {
  "kernelspec": {
   "display_name": "ml",
   "language": "python",
   "name": "python3"
  },
  "language_info": {
   "codemirror_mode": {
    "name": "ipython",
    "version": 3
   },
   "file_extension": ".py",
   "mimetype": "text/x-python",
   "name": "python",
   "nbconvert_exporter": "python",
   "pygments_lexer": "ipython3",
   "version": "3.12.4"
  }
 },
 "nbformat": 4,
 "nbformat_minor": 2
}
